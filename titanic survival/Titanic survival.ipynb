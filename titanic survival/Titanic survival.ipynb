{
 "cells": [
  {
   "cell_type": "markdown",
   "metadata": {},
   "source": [
    "## Download Datasets"
   ]
  },
  {
   "cell_type": "code",
   "execution_count": 1,
   "metadata": {},
   "outputs": [],
   "source": [
    "import urllib.request\n",
    "import os"
   ]
  },
  {
   "cell_type": "code",
   "execution_count": 2,
   "metadata": {},
   "outputs": [
    {
     "name": "stdout",
     "output_type": "stream",
     "text": [
      "download: ('titanic_train.csv', <http.client.HTTPMessage object at 0x10a5b5c18>)\n"
     ]
    }
   ],
   "source": [
    "# download training dataset\n",
    "url_1 = 'https://storage.googleapis.com/kaggle-competitions-data/kaggle/3136/train.csv?GoogleAccessId=web-data@kaggle-161607.iam.gserviceaccount.com&Expires=1530516448&Signature=mVnnWeE%2BGzOXe2KtfIX6k9nh7FvphehDcem%2Fp9HQqYyMi11xbUFpwAwx2m1yZz6SjWpgQ86JGBHxAZrTxyQbiulX20FvGy%2FPCZMtt5di6WKCnOv61kUZout%2F%2BeDIaBb0m2wS3GxkQ39TXauIB8%2FEviSyVy5IUBRqm9p1YvMx2lptwNEGia7WMS3HfWW2CMPcyxZxiJgWIdi9Ur09WlqMD%2BUAmaOAjp5xcdCnSIp4Xr68xpwDC9Ec%2BSIcBrv%2FwSODdzmWimMO8hpc3%2Ba5RM6XijOjQLTk4ATOQtdQd989obuY2TCpm43JAvh%2BCZa5Iu2YBbS6Yt6kYaXlXMVQHDrj9A%3D%3D'\n",
    "file_path_1 = 'titanic_train.csv'\n",
    "if not os.path.isfile(file_path_1):\n",
    "    result_1 = urllib.request.urlretrieve(url_1, file_path_1)\n",
    "    print('download:', result_1)"
   ]
  },
  {
   "cell_type": "code",
   "execution_count": 3,
   "metadata": {},
   "outputs": [
    {
     "name": "stdout",
     "output_type": "stream",
     "text": [
      "download: ('titanic_test.csv', <http.client.HTTPMessage object at 0x10ae49080>)\n"
     ]
    }
   ],
   "source": [
    "# download testing sataset\n",
    "url_2 = 'https://storage.googleapis.com/kaggle-competitions-data/kaggle/3136/test.csv?GoogleAccessId=web-data@kaggle-161607.iam.gserviceaccount.com&Expires=1530516602&Signature=PSro%2BVTemNrv6jmW6razMjS7oMHXa9Fo7yKnvEwv2A6tjP8%2BvASDJah1A%2F3cOyWuktijzC7KkLAy2Nz1sGT1h6bq6tNMsHFmu290Fm5sw3Uj0ieqUKpXp5VIdfT%2FqyFchrlcqhBka1ewygcKkYOcpwYJ%2BkIa1NDrGaodQ1ItZBDQdavMGFqpTILdfDKu4gxUHcDikTm6%2Ft%2FhVPKCHTxUGY89odi9CGRyW1YD3Xj2k0WcZKM6h13d7Ft14CcaTaxSFSwX1jA%2FybPfZZaJEv8XhVPN0xjsJB8LnnW%2BrECTi2eEEMXxk7xQUOlQx3L9mHH1AFcrFHe8SRpcRxsmEYS0Mw%3D%3D'\n",
    "file_path_2 = 'titanic_test.csv'\n",
    "if not os.path.isfile(file_path_2):\n",
    "    result_2 = urllib.request.urlretrieve(url_2, file_path_2)\n",
    "    print('download:', result_2)"
   ]
  },
  {
   "cell_type": "markdown",
   "metadata": {},
   "source": [
    "## Data Preprocessing"
   ]
  },
  {
   "cell_type": "code",
   "execution_count": 1,
   "metadata": {},
   "outputs": [],
   "source": [
    "import numpy as np\n",
    "import pandas as pd\n",
    "import matplotlib.pyplot as plt\n",
    "import seaborn as sns\n",
    "%matplotlib inline"
   ]
  },
  {
   "cell_type": "markdown",
   "metadata": {},
   "source": [
    "#### Data Frame"
   ]
  },
  {
   "cell_type": "code",
   "execution_count": 2,
   "metadata": {},
   "outputs": [],
   "source": [
    "df_train = pd.read_csv('titanic_train.csv')\n",
    "df_test = pd.read_csv('titanic_test.csv')"
   ]
  },
  {
   "cell_type": "markdown",
   "metadata": {},
   "source": [
    "#### Quick Look Training & Testing Datasets"
   ]
  },
  {
   "cell_type": "code",
   "execution_count": 3,
   "metadata": {},
   "outputs": [
    {
     "name": "stdout",
     "output_type": "stream",
     "text": [
      "training data shape = (891, 12):\n",
      "\n"
     ]
    },
    {
     "data": {
      "text/html": [
       "<div>\n",
       "<style scoped>\n",
       "    .dataframe tbody tr th:only-of-type {\n",
       "        vertical-align: middle;\n",
       "    }\n",
       "\n",
       "    .dataframe tbody tr th {\n",
       "        vertical-align: top;\n",
       "    }\n",
       "\n",
       "    .dataframe thead th {\n",
       "        text-align: right;\n",
       "    }\n",
       "</style>\n",
       "<table border=\"1\" class=\"dataframe\">\n",
       "  <thead>\n",
       "    <tr style=\"text-align: right;\">\n",
       "      <th></th>\n",
       "      <th>PassengerId</th>\n",
       "      <th>Survived</th>\n",
       "      <th>Pclass</th>\n",
       "      <th>Name</th>\n",
       "      <th>Sex</th>\n",
       "      <th>Age</th>\n",
       "      <th>SibSp</th>\n",
       "      <th>Parch</th>\n",
       "      <th>Ticket</th>\n",
       "      <th>Fare</th>\n",
       "      <th>Cabin</th>\n",
       "      <th>Embarked</th>\n",
       "    </tr>\n",
       "  </thead>\n",
       "  <tbody>\n",
       "    <tr>\n",
       "      <th>0</th>\n",
       "      <td>1</td>\n",
       "      <td>0</td>\n",
       "      <td>3</td>\n",
       "      <td>Braund, Mr. Owen Harris</td>\n",
       "      <td>male</td>\n",
       "      <td>22.0</td>\n",
       "      <td>1</td>\n",
       "      <td>0</td>\n",
       "      <td>A/5 21171</td>\n",
       "      <td>7.2500</td>\n",
       "      <td>NaN</td>\n",
       "      <td>S</td>\n",
       "    </tr>\n",
       "    <tr>\n",
       "      <th>1</th>\n",
       "      <td>2</td>\n",
       "      <td>1</td>\n",
       "      <td>1</td>\n",
       "      <td>Cumings, Mrs. John Bradley (Florence Briggs Th...</td>\n",
       "      <td>female</td>\n",
       "      <td>38.0</td>\n",
       "      <td>1</td>\n",
       "      <td>0</td>\n",
       "      <td>PC 17599</td>\n",
       "      <td>71.2833</td>\n",
       "      <td>C85</td>\n",
       "      <td>C</td>\n",
       "    </tr>\n",
       "    <tr>\n",
       "      <th>2</th>\n",
       "      <td>3</td>\n",
       "      <td>1</td>\n",
       "      <td>3</td>\n",
       "      <td>Heikkinen, Miss. Laina</td>\n",
       "      <td>female</td>\n",
       "      <td>26.0</td>\n",
       "      <td>0</td>\n",
       "      <td>0</td>\n",
       "      <td>STON/O2. 3101282</td>\n",
       "      <td>7.9250</td>\n",
       "      <td>NaN</td>\n",
       "      <td>S</td>\n",
       "    </tr>\n",
       "  </tbody>\n",
       "</table>\n",
       "</div>"
      ],
      "text/plain": [
       "   PassengerId  Survived  Pclass  \\\n",
       "0            1         0       3   \n",
       "1            2         1       1   \n",
       "2            3         1       3   \n",
       "\n",
       "                                                Name     Sex   Age  SibSp  \\\n",
       "0                            Braund, Mr. Owen Harris    male  22.0      1   \n",
       "1  Cumings, Mrs. John Bradley (Florence Briggs Th...  female  38.0      1   \n",
       "2                             Heikkinen, Miss. Laina  female  26.0      0   \n",
       "\n",
       "   Parch            Ticket     Fare Cabin Embarked  \n",
       "0      0         A/5 21171   7.2500   NaN        S  \n",
       "1      0          PC 17599  71.2833   C85        C  \n",
       "2      0  STON/O2. 3101282   7.9250   NaN        S  "
      ]
     },
     "execution_count": 3,
     "metadata": {},
     "output_type": "execute_result"
    }
   ],
   "source": [
    "print('training data shape = {}:\\n'.format(df_train.shape))\n",
    "df_train.head(3)"
   ]
  },
  {
   "cell_type": "code",
   "execution_count": 4,
   "metadata": {},
   "outputs": [
    {
     "name": "stdout",
     "output_type": "stream",
     "text": [
      "testing data shape = (418, 11):\n",
      "\n"
     ]
    },
    {
     "data": {
      "text/html": [
       "<div>\n",
       "<style scoped>\n",
       "    .dataframe tbody tr th:only-of-type {\n",
       "        vertical-align: middle;\n",
       "    }\n",
       "\n",
       "    .dataframe tbody tr th {\n",
       "        vertical-align: top;\n",
       "    }\n",
       "\n",
       "    .dataframe thead th {\n",
       "        text-align: right;\n",
       "    }\n",
       "</style>\n",
       "<table border=\"1\" class=\"dataframe\">\n",
       "  <thead>\n",
       "    <tr style=\"text-align: right;\">\n",
       "      <th></th>\n",
       "      <th>PassengerId</th>\n",
       "      <th>Pclass</th>\n",
       "      <th>Name</th>\n",
       "      <th>Sex</th>\n",
       "      <th>Age</th>\n",
       "      <th>SibSp</th>\n",
       "      <th>Parch</th>\n",
       "      <th>Ticket</th>\n",
       "      <th>Fare</th>\n",
       "      <th>Cabin</th>\n",
       "      <th>Embarked</th>\n",
       "    </tr>\n",
       "  </thead>\n",
       "  <tbody>\n",
       "    <tr>\n",
       "      <th>0</th>\n",
       "      <td>892</td>\n",
       "      <td>3</td>\n",
       "      <td>Kelly, Mr. James</td>\n",
       "      <td>male</td>\n",
       "      <td>34.5</td>\n",
       "      <td>0</td>\n",
       "      <td>0</td>\n",
       "      <td>330911</td>\n",
       "      <td>7.8292</td>\n",
       "      <td>NaN</td>\n",
       "      <td>Q</td>\n",
       "    </tr>\n",
       "    <tr>\n",
       "      <th>1</th>\n",
       "      <td>893</td>\n",
       "      <td>3</td>\n",
       "      <td>Wilkes, Mrs. James (Ellen Needs)</td>\n",
       "      <td>female</td>\n",
       "      <td>47.0</td>\n",
       "      <td>1</td>\n",
       "      <td>0</td>\n",
       "      <td>363272</td>\n",
       "      <td>7.0000</td>\n",
       "      <td>NaN</td>\n",
       "      <td>S</td>\n",
       "    </tr>\n",
       "    <tr>\n",
       "      <th>2</th>\n",
       "      <td>894</td>\n",
       "      <td>2</td>\n",
       "      <td>Myles, Mr. Thomas Francis</td>\n",
       "      <td>male</td>\n",
       "      <td>62.0</td>\n",
       "      <td>0</td>\n",
       "      <td>0</td>\n",
       "      <td>240276</td>\n",
       "      <td>9.6875</td>\n",
       "      <td>NaN</td>\n",
       "      <td>Q</td>\n",
       "    </tr>\n",
       "  </tbody>\n",
       "</table>\n",
       "</div>"
      ],
      "text/plain": [
       "   PassengerId  Pclass                              Name     Sex   Age  SibSp  \\\n",
       "0          892       3                  Kelly, Mr. James    male  34.5      0   \n",
       "1          893       3  Wilkes, Mrs. James (Ellen Needs)  female  47.0      1   \n",
       "2          894       2         Myles, Mr. Thomas Francis    male  62.0      0   \n",
       "\n",
       "   Parch  Ticket    Fare Cabin Embarked  \n",
       "0      0  330911  7.8292   NaN        Q  \n",
       "1      0  363272  7.0000   NaN        S  \n",
       "2      0  240276  9.6875   NaN        Q  "
      ]
     },
     "execution_count": 4,
     "metadata": {},
     "output_type": "execute_result"
    }
   ],
   "source": [
    "print('testing data shape = {}:\\n'.format(df_test.shape))\n",
    "df_test.head(3)"
   ]
  },
  {
   "cell_type": "code",
   "execution_count": 5,
   "metadata": {},
   "outputs": [],
   "source": [
    "# replace embarked values\n",
    "df_train.Embarked.replace(['S', 'C', 'Q'], ['Southampton', 'Cherbourg', 'Queenstown'], inplace=True)\n",
    "df_test.Embarked.replace(['S', 'C', 'Q'], ['Southampton', 'Cherbourg', 'Queenstown'], inplace=True)"
   ]
  },
  {
   "cell_type": "markdown",
   "metadata": {},
   "source": [
    "#### Missing Value Handling"
   ]
  },
  {
   "cell_type": "code",
   "execution_count": 6,
   "metadata": {},
   "outputs": [
    {
     "name": "stdout",
     "output_type": "stream",
     "text": [
      "missing value of training data:\n",
      "PassengerId      0\n",
      "Survived         0\n",
      "Pclass           0\n",
      "Name             0\n",
      "Sex              0\n",
      "Age            177\n",
      "SibSp            0\n",
      "Parch            0\n",
      "Ticket           0\n",
      "Fare             0\n",
      "Cabin          687\n",
      "Embarked         2\n",
      "dtype: int64\n",
      "\n",
      "missing value of testing data:\n",
      "PassengerId      0\n",
      "Pclass           0\n",
      "Name             0\n",
      "Sex              0\n",
      "Age             86\n",
      "SibSp            0\n",
      "Parch            0\n",
      "Ticket           0\n",
      "Fare             1\n",
      "Cabin          327\n",
      "Embarked         0\n",
      "dtype: int64\n"
     ]
    }
   ],
   "source": [
    "# check the missing value of training and testing data\n",
    "print('missing value of training data:\\n{}'.format(df_train.isnull().sum()))\n",
    "print()\n",
    "print('missing value of testing data:\\n{}'.format(df_test.isnull().sum()))"
   ]
  },
  {
   "cell_type": "code",
   "execution_count": 7,
   "metadata": {},
   "outputs": [],
   "source": [
    "# age feature (replace missing values with the median)\n",
    "df_train.Age.fillna(value=df_train.Age.median(), inplace=True)\n",
    "df_test.Age.fillna(value=df_test.Age.median(), inplace=True)\n",
    "\n",
    "# fara feature (replace missing values with the median)\n",
    "df_test.Fare.fillna(value=df_test.Fare.median(), inplace=True)\n",
    "\n",
    "# embarked feature (replace missing values with the mode)\n",
    "df_train.Embarked.fillna(value=df_train.Embarked.value_counts().index[0], inplace=True)\n",
    "\n",
    "# remove cabin feature (too many missing values)\n",
    "df_train.drop(columns=['Cabin'], inplace=True)\n",
    "df_test.drop(columns=['Cabin'], inplace=True)"
   ]
  },
  {
   "cell_type": "markdown",
   "metadata": {},
   "source": [
    "## Feature Engineering"
   ]
  },
  {
   "cell_type": "markdown",
   "metadata": {},
   "source": [
    "#### Age Feature"
   ]
  },
  {
   "cell_type": "code",
   "execution_count": 8,
   "metadata": {},
   "outputs": [],
   "source": [
    "# define age group\n",
    "bins = [0, 6, 12, 18, 40, 65, max(max(df_train.Age), max(df_test.Age))]\n",
    "age_group = ['Baby', 'Child', 'Teenager', 'Adult', 'MiddleAged', 'Older']\n",
    "\n",
    "# add a nwe feature\n",
    "df_train['AgeGroup'] = pd.cut(df_train.Age, bins, labels=age_group)\n",
    "df_test['AgeGroup'] = pd.cut(df_test.Age, bins, labels=age_group)"
   ]
  },
  {
   "cell_type": "markdown",
   "metadata": {},
   "source": [
    "#### Fare Feature"
   ]
  },
  {
   "cell_type": "code",
   "execution_count": 9,
   "metadata": {},
   "outputs": [],
   "source": [
    "# define fare range\n",
    "fare_range = ['Low', 'Medium', 'High', 'Expensive']\n",
    "\n",
    "# add new feature\n",
    "df_train['FareRange'] = pd.qcut(df_train.Fare, q=4, labels=fare_range)\n",
    "df_test['FareRange'] = pd.qcut(df_test.Fare, q=4, labels=fare_range)"
   ]
  },
  {
   "cell_type": "markdown",
   "metadata": {},
   "source": [
    "#### SibSp and Parch Feature"
   ]
  },
  {
   "cell_type": "code",
   "execution_count": 10,
   "metadata": {},
   "outputs": [],
   "source": [
    "# define family size feature (+1 represents oneself)\n",
    "df_train['FamilySize'] = df_train.SibSp.values + df_train.Parch.values + 1\n",
    "df_test['FamilySize'] = df_test.SibSp.values + df_test.Parch.values + 1\n",
    "\n",
    "# define new feature, check 'is alone or not' has impact on survival rate\n",
    "df_train['IsAlone'] = df_train.FamilySize.apply(lambda x: 'No' if x!=1 else 'Yes')\n",
    "df_test['IsAlone'] = df_test.FamilySize.apply(lambda x: 'No' if x!=1 else 'Yes')"
   ]
  },
  {
   "cell_type": "markdown",
   "metadata": {},
   "source": [
    "#### Name Feature"
   ]
  },
  {
   "cell_type": "code",
   "execution_count": 11,
   "metadata": {},
   "outputs": [
    {
     "name": "stdout",
     "output_type": "stream",
     "text": [
      "name feature of training data frame:\n",
      "0                              Braund, Mr. Owen Harris\n",
      "1    Cumings, Mrs. John Bradley (Florence Briggs Th...\n",
      "2                               Heikkinen, Miss. Laina\n",
      "Name: Name, dtype: object\n",
      "\n",
      "name feature of testing data frame:\n",
      "0                    Kelly, Mr. James\n",
      "1    Wilkes, Mrs. James (Ellen Needs)\n",
      "2           Myles, Mr. Thomas Francis\n",
      "Name: Name, dtype: object\n"
     ]
    }
   ],
   "source": [
    "print('name feature of training data frame:')\n",
    "print(df_train.Name.head(3))\n",
    "print()\n",
    "print('name feature of testing data frame:')\n",
    "print(df_test.Name.head(3))"
   ]
  },
  {
   "cell_type": "code",
   "execution_count": 12,
   "metadata": {},
   "outputs": [],
   "source": [
    "# separate first name and last name, get the title\n",
    "df_train['Title'] = df_train.Name.apply(lambda x: x.split(', ')[1].split('. ')[0])\n",
    "df_test['Title'] = df_test.Name.apply(lambda x: x.split(', ')[1].split('. ')[0])"
   ]
  },
  {
   "cell_type": "code",
   "execution_count": 13,
   "metadata": {},
   "outputs": [
    {
     "name": "stdout",
     "output_type": "stream",
     "text": [
      "title feature of training data frame:\n",
      "Mr              517\n",
      "Miss            182\n",
      "Mrs             125\n",
      "Master           40\n",
      "Dr                7\n",
      "Rev               6\n",
      "Col               2\n",
      "Mlle              2\n",
      "Major             2\n",
      "Capt              1\n",
      "Lady              1\n",
      "the Countess      1\n",
      "Mme               1\n",
      "Ms                1\n",
      "Don               1\n",
      "Jonkheer          1\n",
      "Sir               1\n",
      "Name: Title, dtype: int64\n",
      "\n",
      "title feature of testing data frame:\n",
      "Mr        240\n",
      "Miss       78\n",
      "Mrs        72\n",
      "Master     21\n",
      "Col         2\n",
      "Rev         2\n",
      "Dr          1\n",
      "Ms          1\n",
      "Dona        1\n",
      "Name: Title, dtype: int64\n"
     ]
    }
   ],
   "source": [
    "print('title feature of training data frame:')\n",
    "print(df_train.Title.value_counts())\n",
    "print()\n",
    "print('title feature of testing data frame:')\n",
    "print(df_test.Title.value_counts())"
   ]
  },
  {
   "cell_type": "code",
   "execution_count": 14,
   "metadata": {},
   "outputs": [],
   "source": [
    "# replace the rare title with 'Rare' title\n",
    "rare_title_train = df_train.Title.value_counts().index[6:]\n",
    "rare_title_test = df_test.Title.value_counts().index[5:]\n",
    "\n",
    "df_train.Title.replace(rare_title_train, 'Rare', inplace=True)\n",
    "df_test.Title.replace(rare_title_test, 'Rare', inplace=True)"
   ]
  },
  {
   "cell_type": "code",
   "execution_count": 15,
   "metadata": {},
   "outputs": [
    {
     "name": "stdout",
     "output_type": "stream",
     "text": [
      "title feature of training data frame:\n",
      "Mr        517\n",
      "Miss      182\n",
      "Mrs       125\n",
      "Master     40\n",
      "Rare       14\n",
      "Dr          7\n",
      "Rev         6\n",
      "Name: Title, dtype: int64\n",
      "\n",
      "title feature of testing data frame:\n",
      "Mr        240\n",
      "Miss       78\n",
      "Mrs        72\n",
      "Master     21\n",
      "Rare        5\n",
      "Col         2\n",
      "Name: Title, dtype: int64\n"
     ]
    }
   ],
   "source": [
    "print('title feature of training data frame:')\n",
    "print(df_train.Title.value_counts())\n",
    "print()\n",
    "print('title feature of testing data frame:')\n",
    "print(df_test.Title.value_counts())"
   ]
  },
  {
   "cell_type": "markdown",
   "metadata": {},
   "source": [
    "## Visualization (each feature v.s. survived)"
   ]
  },
  {
   "cell_type": "markdown",
   "metadata": {},
   "source": [
    "#### For training data, check what impact does each feature have on survival rate"
   ]
  },
  {
   "cell_type": "code",
   "execution_count": 16,
   "metadata": {},
   "outputs": [],
   "source": [
    "# define a function that could plot the survival correlation by each feature\n",
    "def plotFeatureSurvived(features):\n",
    "    fig = plt.figure(figsize=(25, 13), facecolor='w')\n",
    "    for i, j in enumerate(features):\n",
    "        ax = fig.add_subplot(2, 4, i+1)\n",
    "        result = sns.barplot(x=j, y='Survived', data=df_train, ci=None, ax=ax)\n",
    "        result.set_xlabel('')\n",
    "        result.set_ylabel('Survival rate')\n",
    "        result.set_title('%s feature'%(j))"
   ]
  },
  {
   "cell_type": "code",
   "execution_count": 17,
   "metadata": {},
   "outputs": [
    {
     "data": {
      "image/png": "[encoded data removed]",
      "text/plain": [
       "<matplotlib.figure.Figure at 0x1167a8358>"
      ]
     },
     "metadata": {},
     "output_type": "display_data"
    }
   ],
   "source": [
    "feature_list = ['Sex', 'AgeGroup', 'Pclass', 'Embarked', 'FareRange', 'FamilySize', 'IsAlone', 'Title']\n",
    "plotFeatureSurvived(feature_list)"
   ]
  },
  {
   "cell_type": "markdown",
   "metadata": {},
   "source": [
    "## Feature Selection"
   ]
  },
  {
   "cell_type": "markdown",
   "metadata": {},
   "source": [
    "#### Drop the Meaningless Features"
   ]
  },
  {
   "cell_type": "code",
   "execution_count": 18,
   "metadata": {},
   "outputs": [],
   "source": [
    "df_train.drop(columns=['PassengerId', 'Name', 'Ticket'], inplace=True)\n",
    "df_test.drop(columns=['PassengerId', 'Name', 'Ticket'], inplace=True)"
   ]
  },
  {
   "cell_type": "code",
   "execution_count": 19,
   "metadata": {},
   "outputs": [
    {
     "name": "stdout",
     "output_type": "stream",
     "text": [
      "training data frame:\n",
      "\n"
     ]
    },
    {
     "data": {
      "text/html": [
       "<div>\n",
       "<style scoped>\n",
       "    .dataframe tbody tr th:only-of-type {\n",
       "        vertical-align: middle;\n",
       "    }\n",
       "\n",
       "    .dataframe tbody tr th {\n",
       "        vertical-align: top;\n",
       "    }\n",
       "\n",
       "    .dataframe thead th {\n",
       "        text-align: right;\n",
       "    }\n",
       "</style>\n",
       "<table border=\"1\" class=\"dataframe\">\n",
       "  <thead>\n",
       "    <tr style=\"text-align: right;\">\n",
       "      <th></th>\n",
       "      <th>Survived</th>\n",
       "      <th>Pclass</th>\n",
       "      <th>Sex</th>\n",
       "      <th>Age</th>\n",
       "      <th>SibSp</th>\n",
       "      <th>Parch</th>\n",
       "      <th>Fare</th>\n",
       "      <th>Embarked</th>\n",
       "      <th>AgeGroup</th>\n",
       "      <th>FareRange</th>\n",
       "      <th>FamilySize</th>\n",
       "      <th>IsAlone</th>\n",
       "      <th>Title</th>\n",
       "    </tr>\n",
       "  </thead>\n",
       "  <tbody>\n",
       "    <tr>\n",
       "      <th>0</th>\n",
       "      <td>0</td>\n",
       "      <td>3</td>\n",
       "      <td>male</td>\n",
       "      <td>22.0</td>\n",
       "      <td>1</td>\n",
       "      <td>0</td>\n",
       "      <td>7.2500</td>\n",
       "      <td>Southampton</td>\n",
       "      <td>Adult</td>\n",
       "      <td>Low</td>\n",
       "      <td>2</td>\n",
       "      <td>No</td>\n",
       "      <td>Mr</td>\n",
       "    </tr>\n",
       "    <tr>\n",
       "      <th>1</th>\n",
       "      <td>1</td>\n",
       "      <td>1</td>\n",
       "      <td>female</td>\n",
       "      <td>38.0</td>\n",
       "      <td>1</td>\n",
       "      <td>0</td>\n",
       "      <td>71.2833</td>\n",
       "      <td>Cherbourg</td>\n",
       "      <td>Adult</td>\n",
       "      <td>Expensive</td>\n",
       "      <td>2</td>\n",
       "      <td>No</td>\n",
       "      <td>Mrs</td>\n",
       "    </tr>\n",
       "    <tr>\n",
       "      <th>2</th>\n",
       "      <td>1</td>\n",
       "      <td>3</td>\n",
       "      <td>female</td>\n",
       "      <td>26.0</td>\n",
       "      <td>0</td>\n",
       "      <td>0</td>\n",
       "      <td>7.9250</td>\n",
       "      <td>Southampton</td>\n",
       "      <td>Adult</td>\n",
       "      <td>Medium</td>\n",
       "      <td>1</td>\n",
       "      <td>Yes</td>\n",
       "      <td>Miss</td>\n",
       "    </tr>\n",
       "  </tbody>\n",
       "</table>\n",
       "</div>"
      ],
      "text/plain": [
       "   Survived  Pclass     Sex   Age  SibSp  Parch     Fare     Embarked  \\\n",
       "0         0       3    male  22.0      1      0   7.2500  Southampton   \n",
       "1         1       1  female  38.0      1      0  71.2833    Cherbourg   \n",
       "2         1       3  female  26.0      0      0   7.9250  Southampton   \n",
       "\n",
       "  AgeGroup  FareRange  FamilySize IsAlone Title  \n",
       "0    Adult        Low           2      No    Mr  \n",
       "1    Adult  Expensive           2      No   Mrs  \n",
       "2    Adult     Medium           1     Yes  Miss  "
      ]
     },
     "execution_count": 19,
     "metadata": {},
     "output_type": "execute_result"
    }
   ],
   "source": [
    "print('training data frame:\\n')\n",
    "df_train.head(3)"
   ]
  },
  {
   "cell_type": "markdown",
   "metadata": {},
   "source": [
    "#### Feature Importance with Random Forest"
   ]
  },
  {
   "cell_type": "code",
   "execution_count": 20,
   "metadata": {},
   "outputs": [],
   "source": [
    "from sklearn.preprocessing import LabelEncoder\n",
    "from sklearn.ensemble import RandomForestClassifier\n",
    "\n",
    "def plotFeatureImportance(data, features, response):\n",
    "    # label the categorical features\n",
    "    gle = LabelEncoder()\n",
    "    for feature in features:\n",
    "        data[feature] = gle.fit_transform(data[feature])\n",
    "    \n",
    "    # calculate feature importances with random forest\n",
    "    forest = RandomForestClassifier(n_estimators=10000, random_state=0, n_jobs=-1)\n",
    "    forest.fit(data.iloc[:, 1:], response)\n",
    "    importances = forest.feature_importances_\n",
    "    \n",
    "    # plot the importances by each feature\n",
    "    plt.figure(figsize=(8, 5), facecolor='w')\n",
    "    ax = sns.barplot(x=importances, y=df_train.iloc[:, 1:].columns, ci=None)\n",
    "    ax.set_xlabel('')\n",
    "    ax.set_ylabel('Feature')\n",
    "    ax.set_title('Feature Importances')"
   ]
  },
  {
   "cell_type": "code",
   "execution_count": 21,
   "metadata": {},
   "outputs": [
    {
     "data": {
      "image/png": "[encoded data removed]",
      "text/plain": [
       "<matplotlib.figure.Figure at 0x11b3c8d68>"
      ]
     },
     "metadata": {},
     "output_type": "display_data"
    }
   ],
   "source": [
    "categorical_feature = ['Pclass', 'Sex', 'Embarked', 'AgeGroup', 'FareRange', 'IsAlone', 'Title']\n",
    "plotFeatureImportance(data=df_train, features=categorical_feature, response=df_train.Survived)"
   ]
  },
  {
   "cell_type": "markdown",
   "metadata": {},
   "source": [
    "#### Feature Matrix & response vector"
   ]
  },
  {
   "cell_type": "code",
   "execution_count": 22,
   "metadata": {},
   "outputs": [
    {
     "name": "stdout",
     "output_type": "stream",
     "text": [
      "features selected in training data:\n",
      "Index(['Pclass', 'Sex', 'Age', 'Fare', 'Embarked', 'FamilySize', 'Title'], dtype='object')\n",
      "\n",
      "features selected in testing data:\n",
      "Index(['Pclass', 'Sex', 'Age', 'Fare', 'Embarked', 'FamilySize', 'Title'], dtype='object')\n"
     ]
    }
   ],
   "source": [
    "X_train = df_train.copy().drop(columns=['Survived', 'SibSp', 'Parch', 'AgeGroup', 'FareRange', 'IsAlone'])\n",
    "y_train = df_train.Survived\n",
    "X_test = df_test.copy().drop(columns=['SibSp', 'Parch', 'AgeGroup', 'FareRange', 'IsAlone'])\n",
    "\n",
    "print('features selected in training data:\\n{}'.format(X_train.columns))\n",
    "print()\n",
    "print('features selected in testing data:\\n{}'.format(X_test.columns))"
   ]
  },
  {
   "cell_type": "markdown",
   "metadata": {},
   "source": [
    "#### One-Hot Encoding"
   ]
  },
  {
   "cell_type": "code",
   "execution_count": 23,
   "metadata": {},
   "outputs": [],
   "source": [
    "# one-hot encoding the categorical features\n",
    "\n",
    "# training data\n",
    "X_train = pd.get_dummies(data=X_train, columns=['Pclass', 'Sex', 'Embarked', 'Title'])\n",
    "\n",
    "# testing data\n",
    "X_test = pd.get_dummies(data=X_test, columns=['Pclass', 'Sex', 'Embarked', 'Title'])"
   ]
  },
  {
   "cell_type": "markdown",
   "metadata": {},
   "source": [
    "#### Feature Scaling"
   ]
  },
  {
   "cell_type": "code",
   "execution_count": 24,
   "metadata": {},
   "outputs": [],
   "source": [
    "from sklearn import preprocessing\n",
    "scaler = preprocessing.MinMaxScaler(feature_range=(0, 1))"
   ]
  },
  {
   "cell_type": "code",
   "execution_count": 25,
   "metadata": {},
   "outputs": [],
   "source": [
    "# let the feature be in a range 0~1\n",
    "\n",
    "# training data\n",
    "X_train.Age = scaler.fit_transform(X_train.Age.values.reshape(-1, 1))\n",
    "X_train.Fare = scaler.fit_transform(X_train.Fare.values.reshape(-1, 1))\n",
    "X_train.FamilySize = X_train.FamilySize.values / max(X_train.FamilySize.values)\n",
    "\n",
    "# testing data\n",
    "X_test.Age = scaler.fit_transform(X_test.Age.values.reshape(-1, 1))\n",
    "X_test.Fare = scaler.fit_transform(X_test.Fare.values.reshape(-1, 1))\n",
    "X_test.FamilySize = X_test.FamilySize.values / max(X_test.FamilySize.values)"
   ]
  },
  {
   "cell_type": "markdown",
   "metadata": {},
   "source": [
    "#### Split Training Datasets into Training and Validation Datasets"
   ]
  },
  {
   "cell_type": "code",
   "execution_count": 26,
   "metadata": {},
   "outputs": [],
   "source": [
    "from sklearn.model_selection import train_test_split\n",
    "X_train_split, X_val_split, y_train_split, y_val_split = train_test_split(X_train, y_train, \n",
    "                                                                          test_size=0.4, random_state=2)"
   ]
  },
  {
   "cell_type": "markdown",
   "metadata": {},
   "source": [
    "## Neural Network with Keras"
   ]
  },
  {
   "cell_type": "code",
   "execution_count": 27,
   "metadata": {},
   "outputs": [
    {
     "name": "stderr",
     "output_type": "stream",
     "text": [
      "Using TensorFlow backend.\n"
     ]
    }
   ],
   "source": [
    "from keras.models import Sequential\n",
    "from keras.layers import Dense"
   ]
  },
  {
   "cell_type": "markdown",
   "metadata": {},
   "source": [
    "#### Establish Neural Network with One Hidding Layer Including 40 Neurons"
   ]
  },
  {
   "cell_type": "code",
   "execution_count": 33,
   "metadata": {},
   "outputs": [],
   "source": [
    "model = Sequential()\n",
    "\n",
    "# input layer & hidden layer\n",
    "model.add(Dense(input_dim=len(X_train.columns), units=40, kernel_initializer='normal', activation='relu'))\n",
    "\n",
    "# output layer: binary classification, use sigmoid\n",
    "model.add(Dense(units=1, kernel_initializer='normal', activation='sigmoid'))"
   ]
  },
  {
   "cell_type": "code",
   "execution_count": 34,
   "metadata": {},
   "outputs": [],
   "source": [
    "# it's a binary classification problem, use binary cross entropy as loss function\n",
    "model.compile(loss='binary_crossentropy', optimizer='adam', metrics=['accuracy'])\n",
    "\n",
    "train_history = model.fit(x=X_train_split, y=y_train_split, validation_split=0.2, \n",
    "                          epochs=30, batch_size=30, verbose=0)"
   ]
  },
  {
   "cell_type": "code",
   "execution_count": 35,
   "metadata": {},
   "outputs": [],
   "source": [
    "def plotTrainHistory(train_history):\n",
    "    plt.figure(facecolor='w')\n",
    "    plt.plot(train_history.history['acc'], label='Train')\n",
    "    plt.plot(train_history.history['val_acc'], label='Validation')\n",
    "    plt.title('Train history')\n",
    "    plt.xlabel('Epoch')\n",
    "    plt.ylabel('Training accuracy')\n",
    "    plt.legend()"
   ]
  },
  {
   "cell_type": "code",
   "execution_count": 36,
   "metadata": {},
   "outputs": [
    {
     "data": {
      "image/png": "[encoded data removed]",
      "text/plain": [
       "<matplotlib.figure.Figure at 0x1278b74a8>"
      ]
     },
     "metadata": {},
     "output_type": "display_data"
    }
   ],
   "source": [
    "plotTrainHistory(train_history)"
   ]
  },
  {
   "cell_type": "code",
   "execution_count": 37,
   "metadata": {},
   "outputs": [
    {
     "name": "stdout",
     "output_type": "stream",
     "text": [
      "357/357 [==============================] - 0s 26us/step\n",
      "Accuracy = 82.6330532379845%\n"
     ]
    }
   ],
   "source": [
    "# use validation set to evaluate accuracy\n",
    "scores = model.evaluate(X_val_split, y_val_split, verbose=1)\n",
    "print('Accuracy = {}%'.format(scores[1]*100))"
   ]
  },
  {
   "cell_type": "code",
   "execution_count": 38,
   "metadata": {},
   "outputs": [
    {
     "name": "stdout",
     "output_type": "stream",
     "text": [
      "number of features of training data: 18\n",
      "number of features of testing data: 17\n"
     ]
    }
   ],
   "source": [
    "print('number of features of training data: {}'.format(len(X_train.columns)))\n",
    "print('number of features of testing data: {}'.format(len(X_test.columns)))"
   ]
  },
  {
   "cell_type": "code",
   "execution_count": 39,
   "metadata": {},
   "outputs": [],
   "source": [
    "# since there is no Dr title in testing data\n",
    "X_test['Dr'] = 0"
   ]
  },
  {
   "cell_type": "code",
   "execution_count": 40,
   "metadata": {},
   "outputs": [],
   "source": [
    "# prediction\n",
    "pred_NN = model.predict_classes(X_test)"
   ]
  },
  {
   "cell_type": "markdown",
   "metadata": {},
   "source": [
    "## Scikit-Learn Module"
   ]
  },
  {
   "cell_type": "code",
   "execution_count": 41,
   "metadata": {},
   "outputs": [],
   "source": [
    "from sklearn.linear_model import LogisticRegression\n",
    "from sklearn.svm import SVC\n",
    "from sklearn.neighbors import KNeighborsClassifier\n",
    "from sklearn.tree import DecisionTreeClassifier\n",
    "from sklearn.ensemble import RandomForestClassifier\n",
    "from sklearn.metrics import accuracy_score"
   ]
  },
  {
   "cell_type": "code",
   "execution_count": 42,
   "metadata": {},
   "outputs": [],
   "source": [
    "classifier_dict = {'Logistic Regression':LogisticRegression(), \n",
    "                   'Support Vector Machine':SVC(), \n",
    "                   'k-Nearest Neighbors':KNeighborsClassifier(), \n",
    "                   'Decision Tree':DecisionTreeClassifier(criterion='entropy', random_state=2),\n",
    "                   'Random Forest':RandomForestClassifier(criterion='gini', random_state=7)}"
   ]
  },
  {
   "cell_type": "code",
   "execution_count": 43,
   "metadata": {},
   "outputs": [
    {
     "name": "stdout",
     "output_type": "stream",
     "text": [
      "Classification accuracy by scikit learn module:\n",
      "\n"
     ]
    },
    {
     "data": {
      "text/html": [
       "<div>\n",
       "<style scoped>\n",
       "    .dataframe tbody tr th:only-of-type {\n",
       "        vertical-align: middle;\n",
       "    }\n",
       "\n",
       "    .dataframe tbody tr th {\n",
       "        vertical-align: top;\n",
       "    }\n",
       "\n",
       "    .dataframe thead th {\n",
       "        text-align: right;\n",
       "    }\n",
       "</style>\n",
       "<table border=\"1\" class=\"dataframe\">\n",
       "  <thead>\n",
       "    <tr style=\"text-align: right;\">\n",
       "      <th></th>\n",
       "      <th>Accuracy</th>\n",
       "    </tr>\n",
       "  </thead>\n",
       "  <tbody>\n",
       "    <tr>\n",
       "      <th>Logistic Regression</th>\n",
       "      <td>82.633053</td>\n",
       "    </tr>\n",
       "    <tr>\n",
       "      <th>Support Vector Machine</th>\n",
       "      <td>81.232493</td>\n",
       "    </tr>\n",
       "    <tr>\n",
       "      <th>k-Nearest Neighbors</th>\n",
       "      <td>82.633053</td>\n",
       "    </tr>\n",
       "    <tr>\n",
       "      <th>Decision Tree</th>\n",
       "      <td>83.473389</td>\n",
       "    </tr>\n",
       "    <tr>\n",
       "      <th>Random Forest</th>\n",
       "      <td>81.792717</td>\n",
       "    </tr>\n",
       "  </tbody>\n",
       "</table>\n",
       "</div>"
      ],
      "text/plain": [
       "                         Accuracy\n",
       "Logistic Regression     82.633053\n",
       "Support Vector Machine  81.232493\n",
       "k-Nearest Neighbors     82.633053\n",
       "Decision Tree           83.473389\n",
       "Random Forest           81.792717"
      ]
     },
     "execution_count": 43,
     "metadata": {},
     "output_type": "execute_result"
    }
   ],
   "source": [
    "y_pred = np.zeros((len(classifier_dict), y_val_split.size))\n",
    "pred_sklearn = np.zeros((len(classifier_dict), len(X_test)))\n",
    "scores_classifier = np.zeros(len(classifier_dict))\n",
    "for i, j in enumerate(classifier_dict.keys()):\n",
    "    classifier = classifier_dict[j]\n",
    "    classifier.fit(X_train_split, y_train_split)\n",
    "    y_pred[i] = classifier.predict(X_val_split)\n",
    "    scores_classifier[i] = accuracy_score(y_pred[i], y_val_split) * 100\n",
    "    \n",
    "    pred_sklearn[i] = classifier.predict(X_test)\n",
    "\n",
    "print('Classification accuracy by scikit learn module:\\n')\n",
    "pd.DataFrame(scores_classifier, columns=['Accuracy'], index=list(classifier_dict.keys()))"
   ]
  },
  {
   "cell_type": "markdown",
   "metadata": {},
   "source": [
    "## Evaluation Accuracy by Each Algorithm"
   ]
  },
  {
   "cell_type": "code",
   "execution_count": 44,
   "metadata": {},
   "outputs": [
    {
     "data": {
      "text/plain": [
       "<matplotlib.text.Text at 0x127c7f978>"
      ]
     },
     "execution_count": 44,
     "metadata": {},
     "output_type": "execute_result"
    },
    {
     "data": {
      "image/png": "[encoded data removed]",
      "text/plain": [
       "<matplotlib.figure.Figure at 0x127c3db00>"
      ]
     },
     "metadata": {},
     "output_type": "display_data"
    }
   ],
   "source": [
    "classifier_list = list(classifier_dict.keys())\n",
    "classifier_list.append('Neural Network with Keras')\n",
    "accuracy = np.concatenate((scores_classifier, np.array([scores[1]*100])))\n",
    "\n",
    "plt.figure(facecolor='w')\n",
    "ax = sns.barplot(x=accuracy, y=classifier_list, ci=None)\n",
    "ax.set_xlabel('Accuracy(%)')\n",
    "ax.set_ylabel('Algorithm')\n",
    "ax.set_title('Evaluation Accuracy by Each Algorithm')"
   ]
  },
  {
   "cell_type": "markdown",
   "metadata": {},
   "source": [
    "## Prediction Results"
   ]
  },
  {
   "cell_type": "code",
   "execution_count": 45,
   "metadata": {},
   "outputs": [
    {
     "data": {
      "text/html": [
       "<div>\n",
       "<style scoped>\n",
       "    .dataframe tbody tr th:only-of-type {\n",
       "        vertical-align: middle;\n",
       "    }\n",
       "\n",
       "    .dataframe tbody tr th {\n",
       "        vertical-align: top;\n",
       "    }\n",
       "\n",
       "    .dataframe thead th {\n",
       "        text-align: right;\n",
       "    }\n",
       "</style>\n",
       "<table border=\"1\" class=\"dataframe\">\n",
       "  <thead>\n",
       "    <tr style=\"text-align: right;\">\n",
       "      <th></th>\n",
       "      <th>Logistic Regression</th>\n",
       "      <th>Support Vector Machine</th>\n",
       "      <th>k-Nearest Neighbors</th>\n",
       "      <th>Decision Tree</th>\n",
       "      <th>Random Forest</th>\n",
       "      <th>Neural Network with Keras</th>\n",
       "    </tr>\n",
       "  </thead>\n",
       "  <tbody>\n",
       "    <tr>\n",
       "      <th>0</th>\n",
       "      <td>0</td>\n",
       "      <td>0</td>\n",
       "      <td>0</td>\n",
       "      <td>0</td>\n",
       "      <td>0</td>\n",
       "      <td>0</td>\n",
       "    </tr>\n",
       "    <tr>\n",
       "      <th>1</th>\n",
       "      <td>1</td>\n",
       "      <td>1</td>\n",
       "      <td>0</td>\n",
       "      <td>0</td>\n",
       "      <td>0</td>\n",
       "      <td>1</td>\n",
       "    </tr>\n",
       "    <tr>\n",
       "      <th>2</th>\n",
       "      <td>0</td>\n",
       "      <td>0</td>\n",
       "      <td>0</td>\n",
       "      <td>0</td>\n",
       "      <td>0</td>\n",
       "      <td>0</td>\n",
       "    </tr>\n",
       "    <tr>\n",
       "      <th>3</th>\n",
       "      <td>0</td>\n",
       "      <td>0</td>\n",
       "      <td>0</td>\n",
       "      <td>0</td>\n",
       "      <td>0</td>\n",
       "      <td>0</td>\n",
       "    </tr>\n",
       "    <tr>\n",
       "      <th>4</th>\n",
       "      <td>1</td>\n",
       "      <td>1</td>\n",
       "      <td>1</td>\n",
       "      <td>1</td>\n",
       "      <td>1</td>\n",
       "      <td>1</td>\n",
       "    </tr>\n",
       "    <tr>\n",
       "      <th>5</th>\n",
       "      <td>0</td>\n",
       "      <td>0</td>\n",
       "      <td>0</td>\n",
       "      <td>0</td>\n",
       "      <td>0</td>\n",
       "      <td>0</td>\n",
       "    </tr>\n",
       "    <tr>\n",
       "      <th>6</th>\n",
       "      <td>1</td>\n",
       "      <td>1</td>\n",
       "      <td>1</td>\n",
       "      <td>0</td>\n",
       "      <td>0</td>\n",
       "      <td>1</td>\n",
       "    </tr>\n",
       "    <tr>\n",
       "      <th>7</th>\n",
       "      <td>0</td>\n",
       "      <td>0</td>\n",
       "      <td>0</td>\n",
       "      <td>0</td>\n",
       "      <td>0</td>\n",
       "      <td>0</td>\n",
       "    </tr>\n",
       "    <tr>\n",
       "      <th>8</th>\n",
       "      <td>1</td>\n",
       "      <td>1</td>\n",
       "      <td>1</td>\n",
       "      <td>1</td>\n",
       "      <td>1</td>\n",
       "      <td>1</td>\n",
       "    </tr>\n",
       "    <tr>\n",
       "      <th>9</th>\n",
       "      <td>0</td>\n",
       "      <td>0</td>\n",
       "      <td>0</td>\n",
       "      <td>0</td>\n",
       "      <td>0</td>\n",
       "      <td>0</td>\n",
       "    </tr>\n",
       "  </tbody>\n",
       "</table>\n",
       "</div>"
      ],
      "text/plain": [
       "   Logistic Regression  Support Vector Machine  k-Nearest Neighbors  \\\n",
       "0                    0                       0                    0   \n",
       "1                    1                       1                    0   \n",
       "2                    0                       0                    0   \n",
       "3                    0                       0                    0   \n",
       "4                    1                       1                    1   \n",
       "5                    0                       0                    0   \n",
       "6                    1                       1                    1   \n",
       "7                    0                       0                    0   \n",
       "8                    1                       1                    1   \n",
       "9                    0                       0                    0   \n",
       "\n",
       "   Decision Tree  Random Forest  Neural Network with Keras  \n",
       "0              0              0                          0  \n",
       "1              0              0                          1  \n",
       "2              0              0                          0  \n",
       "3              0              0                          0  \n",
       "4              1              1                          1  \n",
       "5              0              0                          0  \n",
       "6              0              0                          1  \n",
       "7              0              0                          0  \n",
       "8              1              1                          1  \n",
       "9              0              0                          0  "
      ]
     },
     "execution_count": 45,
     "metadata": {},
     "output_type": "execute_result"
    }
   ],
   "source": [
    "pred_result = pd.concat([pd.DataFrame(pred_sklearn.astype(int).T), (pd.DataFrame(pred_NN))], axis=1)\n",
    "pred_result.columns = classifier_list\n",
    "pred_result.head(10)"
   ]
  },
  {
   "cell_type": "code",
   "execution_count": null,
   "metadata": {},
   "outputs": [],
   "source": []
  }
 ],
 "metadata": {
  "kernelspec": {
   "display_name": "Python 3",
   "language": "python",
   "name": "python3"
  },
  "language_info": {
   "codemirror_mode": {
    "name": "ipython",
    "version": 3
   },
   "file_extension": ".py",
   "mimetype": "text/x-python",
   "name": "python",
   "nbconvert_exporter": "python",
   "pygments_lexer": "ipython3",
   "version": "3.6.1"
  }
 },
 "nbformat": 4,
 "nbformat_minor": 2
}
